{
 "cells": [
  {
   "cell_type": "code",
   "execution_count": 2,
   "metadata": {},
   "outputs": [],
   "source": [
    "import numpy as np\n",
    "import pandas as pd\n",
    "import spacy"
   ]
  },
  {
   "cell_type": "code",
   "execution_count": 12,
   "metadata": {},
   "outputs": [],
   "source": [
    "data = pd.read_csv('datasets/abcnews-date-text.csv', error_bad_lines=False);\n",
    "data_text = data[['headline_text']]\n",
    "data_text['index'] = data_text.index\n",
    "documents = data_text"
   ]
  },
  {
   "cell_type": "code",
   "execution_count": 15,
   "metadata": {},
   "outputs": [
    {
     "name": "stdout",
     "output_type": "stream",
     "text": [
      "1103663\n",
      "                                       headline_text  index\n",
      "0  aba decides against community broadcasting lic...      0\n",
      "1     act fire witnesses must be aware of defamation      1\n",
      "2     a g calls for infrastructure protection summit      2\n",
      "3           air nz staff in aust strike for pay rise      3\n",
      "4      air nz strike to affect australian travellers      4\n"
     ]
    }
   ],
   "source": [
    "print(len(documents))\n",
    "print(documents[:5])"
   ]
  },
  {
   "cell_type": "code",
   "execution_count": 16,
   "metadata": {},
   "outputs": [
    {
     "name": "stderr",
     "output_type": "stream",
     "text": [
      "[nltk_data] Downloading package wordnet to\n",
      "[nltk_data]     C:\\Users\\dell\\AppData\\Roaming\\nltk_data...\n",
      "[nltk_data]   Package wordnet is already up-to-date!\n"
     ]
    },
    {
     "data": {
      "text/plain": [
       "True"
      ]
     },
     "execution_count": 16,
     "metadata": {},
     "output_type": "execute_result"
    }
   ],
   "source": [
    "import gensim\n",
    "from gensim.utils import simple_preprocess\n",
    "from gensim.parsing.preprocessing import STOPWORDS\n",
    "from nltk.stem import WordNetLemmatizer, SnowballStemmer\n",
    "from nltk.stem.porter import PorterStemmer\n",
    "import numpy as np\n",
    "np.random.seed(2018)\n",
    "import nltk\n",
    "nltk.download('wordnet')"
   ]
  },
  {
   "cell_type": "code",
   "execution_count": 23,
   "metadata": {},
   "outputs": [],
   "source": [
    "stemmer = PorterStemmer()\n",
    "def lemmatize_stemming(text):\n",
    "    return stemmer.stem(WordNetLemmatizer().lemmatize(text, pos='v'))\n",
    "\n",
    "def preprocess(text):\n",
    "    result = []\n",
    "    for token in gensim.utils.simple_preprocess(text):\n",
    "        if token not in gensim.parsing.preprocessing.STOPWORDS and len(token) > 3:\n",
    "            result.append(lemmatize_stemming(token))\n",
    "    return result"
   ]
  },
  {
   "cell_type": "code",
   "execution_count": 24,
   "metadata": {},
   "outputs": [
    {
     "name": "stdout",
     "output_type": "stream",
     "text": [
      "original document: \n",
      "['rain', 'helps', 'dampen', 'bushfires']\n",
      "\n",
      "\n",
      " tokenized and lemmatized document: \n",
      "['rain', 'help', 'dampen', 'bushfir']\n"
     ]
    }
   ],
   "source": [
    "doc_sample = documents[documents['index'] == 4310].values[0][0]\n",
    "print('original document: ')\n",
    "words = []\n",
    "for word in doc_sample.split(' '):\n",
    "    words.append(word)\n",
    "print(words)\n",
    "print('\\n\\n tokenized and lemmatized document: ')\n",
    "print(preprocess(doc_sample))"
   ]
  },
  {
   "cell_type": "code",
   "execution_count": 25,
   "metadata": {},
   "outputs": [
    {
     "data": {
      "text/plain": [
       "0               [decid, commun, broadcast, licenc]\n",
       "1                               [wit, awar, defam]\n",
       "2           [call, infrastructur, protect, summit]\n",
       "3                      [staff, aust, strike, rise]\n",
       "4             [strike, affect, australian, travel]\n",
       "5               [ambiti, olsson, win, tripl, jump]\n",
       "6           [antic, delight, record, break, barca]\n",
       "7    [aussi, qualifi, stosur, wast, memphi, match]\n",
       "8            [aust, address, secur, council, iraq]\n",
       "9                         [australia, lock, timet]\n",
       "Name: headline_text, dtype: object"
      ]
     },
     "execution_count": 25,
     "metadata": {},
     "output_type": "execute_result"
    }
   ],
   "source": [
    "processed_docs = documents['headline_text'].map(preprocess)\n",
    "processed_docs[:10]"
   ]
  },
  {
   "cell_type": "code",
   "execution_count": 26,
   "metadata": {},
   "outputs": [
    {
     "name": "stdout",
     "output_type": "stream",
     "text": [
      "0 broadcast\n",
      "1 commun\n",
      "2 decid\n",
      "3 licenc\n",
      "4 awar\n",
      "5 defam\n",
      "6 wit\n",
      "7 call\n",
      "8 infrastructur\n",
      "9 protect\n",
      "10 summit\n"
     ]
    }
   ],
   "source": [
    "dictionary = gensim.corpora.Dictionary(processed_docs)\n",
    "count = 0\n",
    "for k, v in dictionary.iteritems():\n",
    "    print(k, v)\n",
    "    count += 1\n",
    "    if count > 10:\n",
    "        break"
   ]
  },
  {
   "cell_type": "code",
   "execution_count": 27,
   "metadata": {},
   "outputs": [],
   "source": [
    "dictionary.filter_extremes(no_below=15, no_above=0.5, keep_n=100000)"
   ]
  },
  {
   "cell_type": "code",
   "execution_count": 28,
   "metadata": {},
   "outputs": [
    {
     "data": {
      "text/plain": [
       "[(76, 1), (112, 1), (484, 1), (4022, 1)]"
      ]
     },
     "execution_count": 28,
     "metadata": {},
     "output_type": "execute_result"
    }
   ],
   "source": [
    "bow_corpus = [dictionary.doc2bow(doc) for doc in processed_docs]\n",
    "bow_corpus[4310]"
   ]
  },
  {
   "cell_type": "code",
   "execution_count": 29,
   "metadata": {},
   "outputs": [
    {
     "name": "stdout",
     "output_type": "stream",
     "text": [
      "Word 76 (\"bushfir\") appears 1 time.\n",
      "Word 112 (\"help\") appears 1 time.\n",
      "Word 484 (\"rain\") appears 1 time.\n",
      "Word 4022 (\"dampen\") appears 1 time.\n"
     ]
    }
   ],
   "source": [
    "bow_doc_4310 = bow_corpus[4310]\n",
    "for i in range(len(bow_doc_4310)):\n",
    "    print(\"Word {} (\\\"{}\\\") appears {} time.\".format(bow_doc_4310[i][0], \n",
    "                                               dictionary[bow_doc_4310[i][0]], \n",
    "bow_doc_4310[i][1]))"
   ]
  },
  {
   "cell_type": "code",
   "execution_count": 30,
   "metadata": {},
   "outputs": [
    {
     "name": "stdout",
     "output_type": "stream",
     "text": [
      "[(0, 0.5903873663261261),\n",
      " (1, 0.38522586675616677),\n",
      " (2, 0.49747840165121515),\n",
      " (3, 0.5055284652272439)]\n"
     ]
    }
   ],
   "source": [
    "from gensim import corpora, models\n",
    "tfidf = models.TfidfModel(bow_corpus)\n",
    "corpus_tfidf = tfidf[bow_corpus]\n",
    "from pprint import pprint\n",
    "for doc in corpus_tfidf:\n",
    "    pprint(doc)\n",
    "    break"
   ]
  },
  {
   "cell_type": "code",
   "execution_count": 31,
   "metadata": {},
   "outputs": [],
   "source": [
    "lda_model = gensim.models.LdaMulticore(bow_corpus, num_topics=10, id2word=dictionary, passes=2, workers=2)"
   ]
  },
  {
   "cell_type": "code",
   "execution_count": 32,
   "metadata": {},
   "outputs": [
    {
     "name": "stdout",
     "output_type": "stream",
     "text": [
      "Topic: 0 \n",
      "Words: 0.025*\"queensland\" + 0.021*\"adelaid\" + 0.017*\"market\" + 0.017*\"south\" + 0.012*\"share\" + 0.011*\"farmer\" + 0.011*\"victoria\" + 0.011*\"busi\" + 0.010*\"flood\" + 0.010*\"water\"\n",
      "Topic: 1 \n",
      "Words: 0.056*\"australia\" + 0.035*\"trump\" + 0.026*\"world\" + 0.022*\"nation\" + 0.015*\"tasmania\" + 0.013*\"island\" + 0.011*\"polit\" + 0.010*\"hobart\" + 0.009*\"drum\" + 0.009*\"leagu\"\n",
      "Topic: 2 \n",
      "Words: 0.023*\"plan\" + 0.018*\"council\" + 0.016*\"health\" + 0.016*\"rural\" + 0.014*\"indigen\" + 0.013*\"turnbul\" + 0.013*\"chang\" + 0.013*\"commun\" + 0.012*\"fund\" + 0.011*\"meet\"\n",
      "Topic: 3 \n",
      "Words: 0.025*\"kill\" + 0.022*\"attack\" + 0.019*\"famili\" + 0.018*\"donald\" + 0.015*\"fight\" + 0.014*\"dead\" + 0.013*\"crash\" + 0.012*\"million\" + 0.012*\"vote\" + 0.012*\"victim\"\n",
      "Topic: 4 \n",
      "Words: 0.028*\"melbourn\" + 0.020*\"test\" + 0.019*\"countri\" + 0.018*\"live\" + 0.018*\"coast\" + 0.014*\"gold\" + 0.014*\"women\" + 0.013*\"life\" + 0.013*\"feder\" + 0.013*\"student\"\n",
      "Topic: 5 \n",
      "Words: 0.031*\"elect\" + 0.022*\"canberra\" + 0.019*\"say\" + 0.013*\"worker\" + 0.011*\"royal\" + 0.011*\"port\" + 0.011*\"john\" + 0.010*\"liber\" + 0.010*\"labor\" + 0.010*\"peopl\"\n",
      "Topic: 6 \n",
      "Words: 0.019*\"state\" + 0.017*\"hour\" + 0.016*\"rise\" + 0.015*\"govern\" + 0.014*\"call\" + 0.013*\"protest\" + 0.013*\"abus\" + 0.012*\"news\" + 0.012*\"budget\" + 0.011*\"prison\"\n",
      "Topic: 7 \n",
      "Words: 0.035*\"charg\" + 0.033*\"court\" + 0.025*\"murder\" + 0.023*\"north\" + 0.021*\"face\" + 0.017*\"death\" + 0.017*\"accus\" + 0.015*\"alleg\" + 0.014*\"trial\" + 0.014*\"jail\"\n",
      "Topic: 8 \n",
      "Words: 0.055*\"polic\" + 0.020*\"perth\" + 0.018*\"die\" + 0.017*\"interview\" + 0.016*\"miss\" + 0.014*\"arrest\" + 0.013*\"investig\" + 0.013*\"break\" + 0.011*\"driver\" + 0.010*\"search\"\n",
      "Topic: 9 \n",
      "Words: 0.021*\"open\" + 0.016*\"australian\" + 0.016*\"win\" + 0.015*\"time\" + 0.013*\"lose\" + 0.012*\"return\" + 0.011*\"final\" + 0.011*\"lead\" + 0.011*\"game\" + 0.011*\"week\"\n"
     ]
    }
   ],
   "source": [
    "for idx, topic in lda_model.print_topics(-1):\n",
    "    print('Topic: {} \\nWords: {}'.format(idx, topic))"
   ]
  },
  {
   "cell_type": "code",
   "execution_count": 33,
   "metadata": {},
   "outputs": [
    {
     "name": "stdout",
     "output_type": "stream",
     "text": [
      "Topic: 0 Word: 0.011*\"drum\" + 0.011*\"turnbul\" + 0.008*\"john\" + 0.007*\"farmer\" + 0.007*\"rain\" + 0.006*\"tuesday\" + 0.006*\"bushfir\" + 0.006*\"dairi\" + 0.006*\"malcolm\" + 0.006*\"flood\"\n",
      "Topic: 1 Word: 0.019*\"countri\" + 0.019*\"rural\" + 0.017*\"hour\" + 0.010*\"health\" + 0.009*\"podcast\" + 0.007*\"indigen\" + 0.007*\"commun\" + 0.007*\"fund\" + 0.006*\"sport\" + 0.006*\"servic\"\n",
      "Topic: 2 Word: 0.019*\"market\" + 0.019*\"queensland\" + 0.011*\"share\" + 0.009*\"price\" + 0.008*\"australian\" + 0.007*\"royal\" + 0.007*\"commiss\" + 0.006*\"thursday\" + 0.006*\"cattl\" + 0.006*\"dollar\"\n",
      "Topic: 3 Word: 0.011*\"govern\" + 0.008*\"elect\" + 0.007*\"labor\" + 0.006*\"say\" + 0.006*\"marriag\" + 0.006*\"liber\" + 0.006*\"octob\" + 0.005*\"coal\" + 0.005*\"plan\" + 0.005*\"parti\"\n",
      "Topic: 4 Word: 0.015*\"news\" + 0.009*\"victorian\" + 0.009*\"david\" + 0.008*\"juli\" + 0.007*\"sexual\" + 0.007*\"inquest\" + 0.007*\"mark\" + 0.006*\"explain\" + 0.005*\"origin\" + 0.005*\"breakfast\"\n",
      "Topic: 5 Word: 0.013*\"australia\" + 0.008*\"leagu\" + 0.008*\"live\" + 0.008*\"world\" + 0.007*\"final\" + 0.007*\"test\" + 0.007*\"energi\" + 0.006*\"friday\" + 0.006*\"novemb\" + 0.006*\"cricket\"\n",
      "Topic: 6 Word: 0.020*\"trump\" + 0.016*\"crash\" + 0.016*\"interview\" + 0.012*\"polic\" + 0.012*\"die\" + 0.012*\"miss\" + 0.010*\"donald\" + 0.009*\"search\" + 0.008*\"woman\" + 0.008*\"shoot\"\n",
      "Topic: 7 Word: 0.009*\"rugbi\" + 0.009*\"septemb\" + 0.008*\"wednesday\" + 0.006*\"tree\" + 0.005*\"month\" + 0.005*\"pay\" + 0.005*\"result\" + 0.005*\"facebook\" + 0.004*\"import\" + 0.004*\"profit\"\n",
      "Topic: 8 Word: 0.018*\"charg\" + 0.016*\"murder\" + 0.015*\"court\" + 0.010*\"jail\" + 0.010*\"child\" + 0.010*\"accus\" + 0.009*\"polic\" + 0.009*\"alleg\" + 0.009*\"assault\" + 0.009*\"guilti\"\n",
      "Topic: 9 Word: 0.009*\"weather\" + 0.008*\"kill\" + 0.008*\"hobart\" + 0.007*\"north\" + 0.007*\"korea\" + 0.007*\"michael\" + 0.007*\"climat\" + 0.006*\"august\" + 0.005*\"storm\" + 0.005*\"syria\"\n"
     ]
    }
   ],
   "source": [
    "lda_model_tfidf = gensim.models.LdaMulticore(corpus_tfidf, num_topics=10, id2word=dictionary, passes=2, workers=4)\n",
    "for idx, topic in lda_model_tfidf.print_topics(-1):\n",
    "    print('Topic: {} Word: {}'.format(idx, topic))"
   ]
  },
  {
   "cell_type": "code",
   "execution_count": 34,
   "metadata": {},
   "outputs": [
    {
     "data": {
      "text/plain": [
       "['rain', 'help', 'dampen', 'bushfir']"
      ]
     },
     "execution_count": 34,
     "metadata": {},
     "output_type": "execute_result"
    }
   ],
   "source": [
    "processed_docs[4310]"
   ]
  },
  {
   "cell_type": "code",
   "execution_count": 35,
   "metadata": {},
   "outputs": [
    {
     "name": "stdout",
     "output_type": "stream",
     "text": [
      "\n",
      "Score: 0.8199568390846252\t \n",
      "Topic: 0.025*\"queensland\" + 0.021*\"adelaid\" + 0.017*\"market\" + 0.017*\"south\" + 0.012*\"share\" + 0.011*\"farmer\" + 0.011*\"victoria\" + 0.011*\"busi\" + 0.010*\"flood\" + 0.010*\"water\"\n",
      "\n",
      "Score: 0.020006848499178886\t \n",
      "Topic: 0.028*\"melbourn\" + 0.020*\"test\" + 0.019*\"countri\" + 0.018*\"live\" + 0.018*\"coast\" + 0.014*\"gold\" + 0.014*\"women\" + 0.013*\"life\" + 0.013*\"feder\" + 0.013*\"student\"\n",
      "\n",
      "Score: 0.02000552974641323\t \n",
      "Topic: 0.023*\"plan\" + 0.018*\"council\" + 0.016*\"health\" + 0.016*\"rural\" + 0.014*\"indigen\" + 0.013*\"turnbul\" + 0.013*\"chang\" + 0.013*\"commun\" + 0.012*\"fund\" + 0.011*\"meet\"\n",
      "\n",
      "Score: 0.02000541053712368\t \n",
      "Topic: 0.025*\"kill\" + 0.022*\"attack\" + 0.019*\"famili\" + 0.018*\"donald\" + 0.015*\"fight\" + 0.014*\"dead\" + 0.013*\"crash\" + 0.012*\"million\" + 0.012*\"vote\" + 0.012*\"victim\"\n",
      "\n",
      "Score: 0.02000484988093376\t \n",
      "Topic: 0.055*\"polic\" + 0.020*\"perth\" + 0.018*\"die\" + 0.017*\"interview\" + 0.016*\"miss\" + 0.014*\"arrest\" + 0.013*\"investig\" + 0.013*\"break\" + 0.011*\"driver\" + 0.010*\"search\"\n",
      "\n",
      "Score: 0.020004620775580406\t \n",
      "Topic: 0.031*\"elect\" + 0.022*\"canberra\" + 0.019*\"say\" + 0.013*\"worker\" + 0.011*\"royal\" + 0.011*\"port\" + 0.011*\"john\" + 0.010*\"liber\" + 0.010*\"labor\" + 0.010*\"peopl\"\n",
      "\n",
      "Score: 0.020003968849778175\t \n",
      "Topic: 0.056*\"australia\" + 0.035*\"trump\" + 0.026*\"world\" + 0.022*\"nation\" + 0.015*\"tasmania\" + 0.013*\"island\" + 0.011*\"polit\" + 0.010*\"hobart\" + 0.009*\"drum\" + 0.009*\"leagu\"\n",
      "\n",
      "Score: 0.020003968849778175\t \n",
      "Topic: 0.019*\"state\" + 0.017*\"hour\" + 0.016*\"rise\" + 0.015*\"govern\" + 0.014*\"call\" + 0.013*\"protest\" + 0.013*\"abus\" + 0.012*\"news\" + 0.012*\"budget\" + 0.011*\"prison\"\n",
      "\n",
      "Score: 0.020003968849778175\t \n",
      "Topic: 0.035*\"charg\" + 0.033*\"court\" + 0.025*\"murder\" + 0.023*\"north\" + 0.021*\"face\" + 0.017*\"death\" + 0.017*\"accus\" + 0.015*\"alleg\" + 0.014*\"trial\" + 0.014*\"jail\"\n",
      "\n",
      "Score: 0.020003968849778175\t \n",
      "Topic: 0.021*\"open\" + 0.016*\"australian\" + 0.016*\"win\" + 0.015*\"time\" + 0.013*\"lose\" + 0.012*\"return\" + 0.011*\"final\" + 0.011*\"lead\" + 0.011*\"game\" + 0.011*\"week\"\n"
     ]
    }
   ],
   "source": [
    "for index, score in sorted(lda_model[bow_corpus[4310]], key=lambda tup: -1*tup[1]):\n",
    "    print(\"\\nScore: {}\\t \\nTopic: {}\".format(score, lda_model.print_topic(index, 10)))"
   ]
  },
  {
   "cell_type": "code",
   "execution_count": 36,
   "metadata": {},
   "outputs": [
    {
     "name": "stdout",
     "output_type": "stream",
     "text": [
      "\n",
      "Score: 0.5881454944610596\t \n",
      "Topic: 0.011*\"drum\" + 0.011*\"turnbul\" + 0.008*\"john\" + 0.007*\"farmer\" + 0.007*\"rain\" + 0.006*\"tuesday\" + 0.006*\"bushfir\" + 0.006*\"dairi\" + 0.006*\"malcolm\" + 0.006*\"flood\"\n",
      "\n",
      "Score: 0.251772940158844\t \n",
      "Topic: 0.009*\"weather\" + 0.008*\"kill\" + 0.008*\"hobart\" + 0.007*\"north\" + 0.007*\"korea\" + 0.007*\"michael\" + 0.007*\"climat\" + 0.006*\"august\" + 0.005*\"storm\" + 0.005*\"syria\"\n",
      "\n",
      "Score: 0.020012913271784782\t \n",
      "Topic: 0.019*\"countri\" + 0.019*\"rural\" + 0.017*\"hour\" + 0.010*\"health\" + 0.009*\"podcast\" + 0.007*\"indigen\" + 0.007*\"commun\" + 0.007*\"fund\" + 0.006*\"sport\" + 0.006*\"servic\"\n",
      "\n",
      "Score: 0.02001027762889862\t \n",
      "Topic: 0.018*\"charg\" + 0.016*\"murder\" + 0.015*\"court\" + 0.010*\"jail\" + 0.010*\"child\" + 0.010*\"accus\" + 0.009*\"polic\" + 0.009*\"alleg\" + 0.009*\"assault\" + 0.009*\"guilti\"\n",
      "\n",
      "Score: 0.020009933039546013\t \n",
      "Topic: 0.019*\"market\" + 0.019*\"queensland\" + 0.011*\"share\" + 0.009*\"price\" + 0.008*\"australian\" + 0.007*\"royal\" + 0.007*\"commiss\" + 0.006*\"thursday\" + 0.006*\"cattl\" + 0.006*\"dollar\"\n",
      "\n",
      "Score: 0.020009923726320267\t \n",
      "Topic: 0.011*\"govern\" + 0.008*\"elect\" + 0.007*\"labor\" + 0.006*\"say\" + 0.006*\"marriag\" + 0.006*\"liber\" + 0.006*\"octob\" + 0.005*\"coal\" + 0.005*\"plan\" + 0.005*\"parti\"\n",
      "\n",
      "Score: 0.02000988833606243\t \n",
      "Topic: 0.020*\"trump\" + 0.016*\"crash\" + 0.016*\"interview\" + 0.012*\"polic\" + 0.012*\"die\" + 0.012*\"miss\" + 0.010*\"donald\" + 0.009*\"search\" + 0.008*\"woman\" + 0.008*\"shoot\"\n",
      "\n",
      "Score: 0.02000957913696766\t \n",
      "Topic: 0.009*\"rugbi\" + 0.009*\"septemb\" + 0.008*\"wednesday\" + 0.006*\"tree\" + 0.005*\"month\" + 0.005*\"pay\" + 0.005*\"result\" + 0.005*\"facebook\" + 0.004*\"import\" + 0.004*\"profit\"\n",
      "\n",
      "Score: 0.02000957727432251\t \n",
      "Topic: 0.015*\"news\" + 0.009*\"victorian\" + 0.009*\"david\" + 0.008*\"juli\" + 0.007*\"sexual\" + 0.007*\"inquest\" + 0.007*\"mark\" + 0.006*\"explain\" + 0.005*\"origin\" + 0.005*\"breakfast\"\n",
      "\n",
      "Score: 0.020009484142065048\t \n",
      "Topic: 0.013*\"australia\" + 0.008*\"leagu\" + 0.008*\"live\" + 0.008*\"world\" + 0.007*\"final\" + 0.007*\"test\" + 0.007*\"energi\" + 0.006*\"friday\" + 0.006*\"novemb\" + 0.006*\"cricket\"\n"
     ]
    }
   ],
   "source": [
    "for index, score in sorted(lda_model_tfidf[bow_corpus[4310]], key=lambda tup: -1*tup[1]):\n",
    "    print(\"\\nScore: {}\\t \\nTopic: {}\".format(score, lda_model_tfidf.print_topic(index, 10)))"
   ]
  },
  {
   "cell_type": "code",
   "execution_count": 37,
   "metadata": {},
   "outputs": [
    {
     "name": "stdout",
     "output_type": "stream",
     "text": [
      "Score: 0.35010334849357605\t Topic: 0.023*\"plan\" + 0.018*\"council\" + 0.016*\"health\" + 0.016*\"rural\" + 0.014*\"indigen\"\n",
      "Score: 0.34988531470298767\t Topic: 0.031*\"elect\" + 0.022*\"canberra\" + 0.019*\"say\" + 0.013*\"worker\" + 0.011*\"royal\"\n",
      "Score: 0.1832789033651352\t Topic: 0.025*\"queensland\" + 0.021*\"adelaid\" + 0.017*\"market\" + 0.017*\"south\" + 0.012*\"share\"\n",
      "Score: 0.016683155670762062\t Topic: 0.035*\"charg\" + 0.033*\"court\" + 0.025*\"murder\" + 0.023*\"north\" + 0.021*\"face\"\n",
      "Score: 0.01667608879506588\t Topic: 0.056*\"australia\" + 0.035*\"trump\" + 0.026*\"world\" + 0.022*\"nation\" + 0.015*\"tasmania\"\n",
      "Score: 0.016674645245075226\t Topic: 0.025*\"kill\" + 0.022*\"attack\" + 0.019*\"famili\" + 0.018*\"donald\" + 0.015*\"fight\"\n",
      "Score: 0.016674645245075226\t Topic: 0.028*\"melbourn\" + 0.020*\"test\" + 0.019*\"countri\" + 0.018*\"live\" + 0.018*\"coast\"\n",
      "Score: 0.016674645245075226\t Topic: 0.019*\"state\" + 0.017*\"hour\" + 0.016*\"rise\" + 0.015*\"govern\" + 0.014*\"call\"\n",
      "Score: 0.016674645245075226\t Topic: 0.055*\"polic\" + 0.020*\"perth\" + 0.018*\"die\" + 0.017*\"interview\" + 0.016*\"miss\"\n",
      "Score: 0.016674645245075226\t Topic: 0.021*\"open\" + 0.016*\"australian\" + 0.016*\"win\" + 0.015*\"time\" + 0.013*\"lose\"\n"
     ]
    }
   ],
   "source": [
    "unseen_document = 'How a Pentagon deal became an identity crisis for Google'\n",
    "bow_vector = dictionary.doc2bow(preprocess(unseen_document))\n",
    "for index, score in sorted(lda_model[bow_vector], key=lambda tup: -1*tup[1]):\n",
    "    print(\"Score: {}\\t Topic: {}\".format(score, lda_model.print_topic(index, 5)))"
   ]
  },
  {
   "cell_type": "code",
   "execution_count": null,
   "metadata": {},
   "outputs": [],
   "source": []
  }
 ],
 "metadata": {
  "kernelspec": {
   "display_name": "Python 3",
   "language": "python",
   "name": "python3"
  },
  "language_info": {
   "codemirror_mode": {
    "name": "ipython",
    "version": 3
   },
   "file_extension": ".py",
   "mimetype": "text/x-python",
   "name": "python",
   "nbconvert_exporter": "python",
   "pygments_lexer": "ipython3",
   "version": "3.6.0"
  }
 },
 "nbformat": 4,
 "nbformat_minor": 2
}
